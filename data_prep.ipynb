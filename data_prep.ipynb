{
 "cells": [
  {
   "cell_type": "code",
   "execution_count": 1,
   "metadata": {},
   "outputs": [],
   "source": [
    "import os, shutil, csv\n",
    "import numpy as np"
   ]
  },
  {
   "cell_type": "code",
   "execution_count": 2,
   "metadata": {},
   "outputs": [],
   "source": [
    "original_dataset_dir = 'train'\n",
    "base_dir = 'data'"
   ]
  },
  {
   "cell_type": "code",
   "execution_count": 3,
   "metadata": {},
   "outputs": [
    {
     "name": "stdout",
     "output_type": "stream",
     "text": [
      "Created directory:  data\n",
      "Created directory:  data/train/no_tumor\n",
      "Created directory:  data/train/tumor\n",
      "Created directory:  data/validation/no_tumor\n",
      "Created directory:  data/validation/tumor\n"
     ]
    }
   ],
   "source": [
    "categories = ['no_tumor', 'tumor']\n",
    "\n",
    "str_train_val = ['train', 'validation']\n",
    "\n",
    "if not os.path.exists(base_dir):\n",
    "    os.mkdir(base_dir)\n",
    "    print('Created directory: ', base_dir)\n",
    "\n",
    "for dir_type in str_train_val:\n",
    "    train_test_val_dir = os.path.join(base_dir, dir_type)\n",
    "\n",
    "    if not os.path.exists(train_test_val_dir):\n",
    "        os.mkdir(train_test_val_dir)\n",
    "\n",
    "    for category in categories:\n",
    "        dir_type_category = os.path.join(train_test_val_dir, category)\n",
    "\n",
    "        if not os.path.exists(dir_type_category):\n",
    "            os.mkdir(dir_type_category)\n",
    "            print('Created directory: ', dir_type_category)"
   ]
  },
  {
   "cell_type": "code",
   "execution_count": 15,
   "metadata": {},
   "outputs": [],
   "source": [
    "with open('train_labels.csv', 'r') as f:\n",
    "  reader = csv.reader(f)\n",
    "  list_of_images = np.array(list(reader))[1:]"
   ]
  },
  {
   "cell_type": "code",
   "execution_count": 16,
   "metadata": {},
   "outputs": [
    {
     "data": {
      "text/plain": [
       "220025"
      ]
     },
     "execution_count": 16,
     "metadata": {},
     "output_type": "execute_result"
    }
   ],
   "source": [
    "len(list_of_images)"
   ]
  },
  {
   "cell_type": "code",
   "execution_count": 21,
   "metadata": {},
   "outputs": [
    {
     "data": {
      "text/plain": [
       "0.40503124644926713"
      ]
     },
     "execution_count": 21,
     "metadata": {},
     "output_type": "execute_result"
    }
   ],
   "source": [
    "total_n_tumors = np.sum(list_of_images[:,1].astype(np.int))\n",
    "total_n_tumors/len(list_of_images)"
   ]
  },
  {
   "cell_type": "code",
   "execution_count": 29,
   "metadata": {},
   "outputs": [
    {
     "name": "stdout",
     "output_type": "stream",
     "text": [
      "train: 71243 tumor files, 104777 no tumor files\n",
      "validation: 17874 tumor files, 26131 no tumor files\n"
     ]
    }
   ],
   "source": [
    "np.random.seed(12)\n",
    "indexes = dict()\n",
    "indexes['validation'] = sorted(np.random.choice(len(list_of_images), size=len(list_of_images)//5, replace=False))\n",
    "indexes['train'] = list(set(range(len(list_of_images))) - set(indexes['validation']))\n",
    "\n",
    "for phase in str_train_val:\n",
    "    n_tumors = np.sum(list_of_images[indexes[phase]][:,1].astype(np.int))\n",
    "    for name, label in list_of_images[indexes[phase]]:\n",
    "        source = os.path.join(original_dataset_dir,name+\".tif\")\n",
    "        destination = os.path.join(base_dir, phase, categories[int(label)], str(name)+\".tif\")\n",
    "        shutil.copyfile(source, destination)\n",
    "    print(\"{}: {} tumor files, {} no tumor files\".format(phase, n_tumors, len(indexes[phase])-n_tumors))"
   ]
  }
 ],
 "metadata": {
  "kernelspec": {
   "display_name": "Python 3",
   "language": "python",
   "name": "python3"
  },
  "language_info": {
   "codemirror_mode": {
    "name": "ipython",
    "version": 3
   },
   "file_extension": ".py",
   "mimetype": "text/x-python",
   "name": "python",
   "nbconvert_exporter": "python",
   "pygments_lexer": "ipython3",
   "version": "3.7.0"
  }
 },
 "nbformat": 4,
 "nbformat_minor": 2
}
