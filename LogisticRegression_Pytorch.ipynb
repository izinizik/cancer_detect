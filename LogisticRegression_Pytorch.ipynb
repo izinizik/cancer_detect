{
 "cells": [
  {
   "cell_type": "code",
   "execution_count": 1,
   "metadata": {},
   "outputs": [],
   "source": [
    "import numpy as np\n",
    "%matplotlib inline\n",
    "import matplotlib.pyplot as plt\n",
    "from PIL import Image\n",
    "import torch\n",
    "from torchvision import datasets, models, transforms\n",
    "import torch.nn as nn\n",
    "from torch.nn import functional as F\n",
    "import torch.optim as optim\n",
    "from sklearn import metrics\n",
    "from sklearn.metrics import roc_auc_score\n",
    "import os"
   ]
  },
  {
   "cell_type": "code",
   "execution_count": 2,
   "metadata": {},
   "outputs": [],
   "source": [
    "#use_cuda = torch.cuda.is_available()\n",
    "use_cuda = False\n",
    "device = torch.device(\"cuda:0\" if use_cuda else \"cpu\")\n",
    "dtype = torch.cuda.FloatTensor if use_cuda else torch.FloatTensor"
   ]
  },
  {
   "cell_type": "code",
   "execution_count": 3,
   "metadata": {},
   "outputs": [],
   "source": [
    "normalize = transforms.Normalize(mean=[0.485, 0.456, 0.406],\n",
    "                                 std=[0.229, 0.224, 0.225])\n",
    "\n",
    "data_transforms = {\n",
    "    'train':\n",
    "    transforms.Compose([\n",
    "        transforms.Resize((224,224)),\n",
    "        transforms.RandomAffine(0, shear=10, scale=(0.8,1.2)),\n",
    "        transforms.RandomHorizontalFlip(),\n",
    "        transforms.ToTensor(),\n",
    "        normalize\n",
    "    ]),\n",
    "    'validation':\n",
    "    transforms.Compose([\n",
    "        transforms.Resize((224,224)),\n",
    "        transforms.ToTensor(),\n",
    "        normalize\n",
    "    ]),\n",
    "}\n",
    "\n",
    "image_datasets = {\n",
    "    'train': \n",
    "    datasets.ImageFolder('data/train', data_transforms['train']),\n",
    "    'validation': \n",
    "    datasets.ImageFolder('data/validation', data_transforms['validation'])\n",
    "}\n",
    "\n",
    "dataloaders = {\n",
    "    'train':\n",
    "    torch.utils.data.DataLoader(image_datasets['train'],\n",
    "                                batch_size=32,\n",
    "                                shuffle=True, num_workers=4),\n",
    "    'validation':\n",
    "    torch.utils.data.DataLoader(image_datasets['validation'],\n",
    "                                batch_size=32,\n",
    "                                shuffle=False, num_workers=4)\n",
    "}"
   ]
  },
  {
   "cell_type": "code",
   "execution_count": 4,
   "metadata": {},
   "outputs": [],
   "source": [
    "class LogisticRegression(nn.Module):\n",
    "    def __init__(self):\n",
    "        super(LogisticRegression, self).__init__()\n",
    "        self.linear = nn.Linear(3*224*224,2)\n",
    "    \n",
    "    def forward(self, x):\n",
    "        x = x.view(x.size(0), -1)\n",
    "        out = self.linear(x)\n",
    "        return out"
   ]
  },
  {
   "cell_type": "code",
   "execution_count": 5,
   "metadata": {},
   "outputs": [],
   "source": [
    "def train_model(model, criterion, optimizer, num_epochs=3):\n",
    "    for epoch in range(num_epochs):\n",
    "        print('Epoch {}/{}'.format(epoch+1, num_epochs))\n",
    "        print('-' * 10)\n",
    "\n",
    "        for phase in ['train', 'validation']:\n",
    "            if phase == 'train':\n",
    "                model.train()\n",
    "            else:\n",
    "                model.eval()\n",
    "\n",
    "            running_loss = 0.0\n",
    "            running_corrects = 0\n",
    "\n",
    "            for inputs, labels in dataloaders[phase]:\n",
    "                inputs = inputs.to(device)\n",
    "                labels = labels.to(device)\n",
    "\n",
    "                outputs = model(inputs)\n",
    "                loss = criterion(outputs, labels)\n",
    "\n",
    "                if phase == 'train':\n",
    "                    optimizer.zero_grad()\n",
    "                    loss.backward()\n",
    "                    optimizer.step()\n",
    "\n",
    "                _, preds = torch.max(outputs, 1)\n",
    "                running_loss += loss.detach() * inputs.size(0)\n",
    "                running_corrects += torch.sum(preds == labels.data)\n",
    "\n",
    "            epoch_loss = running_loss / len(image_datasets[phase])\n",
    "            epoch_acc = running_corrects.float() / len(image_datasets[phase])\n",
    "\n",
    "            print('{} loss: {:.4f}, acc: {:.4f}'.format(phase,\n",
    "                                                        epoch_loss.item(),\n",
    "                                                        epoch_acc.item()))\n",
    "    return model"
   ]
  },
  {
   "cell_type": "code",
   "execution_count": 6,
   "metadata": {},
   "outputs": [],
   "source": [
    "LogReg = LogisticRegression()"
   ]
  },
  {
   "cell_type": "code",
   "execution_count": 7,
   "metadata": {},
   "outputs": [],
   "source": [
    "LogReg.load_state_dict(torch.load('weightsLogReg.h5'))"
   ]
  },
  {
   "cell_type": "code",
   "execution_count": 8,
   "metadata": {},
   "outputs": [],
   "source": [
    "criterion = nn.CrossEntropyLoss()\n",
    "optimizer = optim.Adam(LogReg.parameters())"
   ]
  },
  {
   "cell_type": "code",
   "execution_count": 9,
   "metadata": {},
   "outputs": [
    {
     "name": "stdout",
     "output_type": "stream",
     "text": [
      "Epoch 1/20\n",
      "----------\n",
      "train loss: 23.4354, acc: 0.5995\n",
      "validation loss: 64.8451, acc: 0.4952\n",
      "Epoch 2/20\n",
      "----------\n",
      "train loss: 21.5919, acc: 0.6049\n",
      "validation loss: 14.6288, acc: 0.6311\n",
      "Epoch 3/20\n",
      "----------\n",
      "train loss: 19.8827, acc: 0.6071\n",
      "validation loss: 14.3917, acc: 0.5831\n",
      "Epoch 4/20\n",
      "----------\n",
      "train loss: 19.9679, acc: 0.6079\n",
      "validation loss: 15.5160, acc: 0.6320\n",
      "Epoch 5/20\n",
      "----------\n",
      "train loss: 18.9526, acc: 0.6103\n",
      "validation loss: 12.0622, acc: 0.6543\n",
      "Epoch 6/20\n",
      "----------\n",
      "train loss: 18.4360, acc: 0.6124\n",
      "validation loss: 12.7436, acc: 0.6314\n",
      "Epoch 7/20\n",
      "----------\n",
      "train loss: 18.7726, acc: 0.6094\n",
      "validation loss: 11.7090, acc: 0.6404\n",
      "Epoch 8/20\n",
      "----------\n",
      "train loss: 18.1211, acc: 0.6124\n",
      "validation loss: 15.3790, acc: 0.6423\n",
      "Epoch 9/20\n",
      "----------\n",
      "train loss: 17.1911, acc: 0.6153\n",
      "validation loss: 25.2144, acc: 0.6009\n",
      "Epoch 10/20\n",
      "----------\n",
      "train loss: 17.5882, acc: 0.6141\n",
      "validation loss: 18.4050, acc: 0.6127\n",
      "Epoch 11/20\n",
      "----------\n",
      "train loss: 17.2045, acc: 0.6138\n",
      "validation loss: 12.3624, acc: 0.6006\n",
      "Epoch 12/20\n",
      "----------\n",
      "train loss: 17.1912, acc: 0.6132\n",
      "validation loss: 10.4315, acc: 0.6600\n",
      "Epoch 13/20\n",
      "----------\n",
      "train loss: 16.6611, acc: 0.6159\n",
      "validation loss: 14.1618, acc: 0.6143\n",
      "Epoch 14/20\n",
      "----------\n",
      "train loss: 16.5644, acc: 0.6172\n",
      "validation loss: 19.7922, acc: 0.5277\n",
      "Epoch 15/20\n",
      "----------\n",
      "train loss: 16.3470, acc: 0.6175\n",
      "validation loss: 12.1111, acc: 0.6359\n",
      "Epoch 16/20\n",
      "----------\n",
      "train loss: 16.6960, acc: 0.6161\n",
      "validation loss: 10.4009, acc: 0.6671\n",
      "Epoch 17/20\n",
      "----------\n",
      "train loss: 16.0824, acc: 0.6180\n",
      "validation loss: 11.1697, acc: 0.6596\n",
      "Epoch 18/20\n",
      "----------\n",
      "train loss: 16.3469, acc: 0.6182\n",
      "validation loss: 18.8288, acc: 0.6146\n",
      "Epoch 19/20\n",
      "----------\n",
      "train loss: 16.3773, acc: 0.6190\n",
      "validation loss: 13.2550, acc: 0.6388\n",
      "Epoch 20/20\n",
      "----------\n",
      "train loss: 16.1574, acc: 0.6180\n",
      "validation loss: 12.2679, acc: 0.6375\n"
     ]
    }
   ],
   "source": [
    "LogReg_trained = train_model(LogReg, criterion, optimizer, num_epochs=20)"
   ]
  },
  {
   "cell_type": "code",
   "execution_count": 10,
   "metadata": {},
   "outputs": [],
   "source": [
    "validation_img_paths = []\n",
    "validation_y_true = []\n",
    "for root, dirs, files in os.walk(\"data/validation/tumor\"):  \n",
    "    for filename in files:\n",
    "        validation_img_paths.append(\"data/validation/tumor/\"+str(filename))\n",
    "        validation_y_true.append(1)\n",
    "for root, dirs, files in os.walk(\"data/validation/no_tumor\"):  \n",
    "    for filename in files:\n",
    "        validation_img_paths.append(\"data/validation/no_tumor/\"+str(filename))\n",
    "        validation_y_true.append(0)"
   ]
  },
  {
   "cell_type": "code",
   "execution_count": 11,
   "metadata": {},
   "outputs": [],
   "source": [
    "validation_paths_splited = np.array_split(np.array(validation_img_paths),200)"
   ]
  },
  {
   "cell_type": "code",
   "execution_count": 12,
   "metadata": {},
   "outputs": [],
   "source": [
    "pred_probs_list = []\n",
    "for i in range(200):\n",
    "    img_list = [Image.open(img_path) for img_path in validation_paths_splited[i]]\n",
    "    validation_batch = torch.stack([data_transforms['validation'](img).to(device) for img in img_list])\n",
    "    pred_probs_list.append(F.softmax(LogReg(validation_batch), dim=1).cpu().data.numpy())"
   ]
  },
  {
   "cell_type": "code",
   "execution_count": 13,
   "metadata": {},
   "outputs": [],
   "source": [
    "pred_probs = np.concatenate([pred_probs_list[i] for i in range(200)])[:,1]"
   ]
  },
  {
   "cell_type": "code",
   "execution_count": 14,
   "metadata": {},
   "outputs": [],
   "source": [
    "y_true = np.array(validation_y_true)"
   ]
  },
  {
   "cell_type": "code",
   "execution_count": 15,
   "metadata": {},
   "outputs": [],
   "source": [
    "fpr, tpr, thresholds = metrics.roc_curve(y_true, pred_probs)"
   ]
  },
  {
   "cell_type": "code",
   "execution_count": 16,
   "metadata": {},
   "outputs": [],
   "source": [
    "roc_auc = roc_auc_score(y_true,pred_probs)"
   ]
  },
  {
   "cell_type": "code",
   "execution_count": 17,
   "metadata": {},
   "outputs": [
    {
     "data": {
      "image/png": "[encoded data removed]",
      "text/plain": [
       "<Figure size 432x288 with 1 Axes>"
      ]
     },
     "metadata": {
      "needs_background": "light"
     },
     "output_type": "display_data"
    }
   ],
   "source": [
    "plt.figure()\n",
    "lw = 2\n",
    "plt.plot(fpr, tpr, color='darkorange',\n",
    "         lw=lw, label='ROC curve (area = %0.2f)' % roc_auc)\n",
    "plt.plot([0, 1], [0, 1], color='navy', lw=lw, linestyle='--')\n",
    "plt.xlim([0.0, 1.0])\n",
    "plt.ylim([0.0, 1.05])\n",
    "plt.xlabel('False Positive Rate')\n",
    "plt.ylabel('True Positive Rate')\n",
    "plt.legend(loc=\"lower right\")\n",
    "plt.show()"
   ]
  },
  {
   "cell_type": "code",
   "execution_count": 18,
   "metadata": {},
   "outputs": [],
   "source": [
    "torch.save(LogReg_trained.state_dict(), 'weightsLogReg2.h5')"
   ]
  },
  {
   "cell_type": "code",
   "execution_count": null,
   "metadata": {},
   "outputs": [],
   "source": []
  }
 ],
 "metadata": {
  "kernelspec": {
   "display_name": "Python 3",
   "language": "python",
   "name": "python3"
  },
  "language_info": {
   "codemirror_mode": {
    "name": "ipython",
    "version": 3
   },
   "file_extension": ".py",
   "mimetype": "text/x-python",
   "name": "python",
   "nbconvert_exporter": "python",
   "pygments_lexer": "ipython3",
   "version": "3.7.0"
  }
 },
 "nbformat": 4,
 "nbformat_minor": 2
}
